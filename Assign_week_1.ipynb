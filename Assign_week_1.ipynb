{
 "cells": [
  {
   "cell_type": "code",
   "execution_count": 1,
   "id": "d8a56e6d",
   "metadata": {},
   "outputs": [],
   "source": [
    "import turicreate"
   ]
  },
  {
   "cell_type": "code",
   "execution_count": 2,
   "id": "becad3f5",
   "metadata": {},
   "outputs": [
    {
     "data": {
      "text/html": [
       "<pre>Finished parsing file /home/arkojit/ML Regression/kc_house_data.csv</pre>"
      ],
      "text/plain": [
       "Finished parsing file /home/arkojit/ML Regression/kc_house_data.csv"
      ]
     },
     "metadata": {},
     "output_type": "display_data"
    },
    {
     "data": {
      "text/html": [
       "<pre>Parsing completed. Parsed 100 lines in 0.102149 secs.</pre>"
      ],
      "text/plain": [
       "Parsing completed. Parsed 100 lines in 0.102149 secs."
      ]
     },
     "metadata": {},
     "output_type": "display_data"
    },
    {
     "name": "stdout",
     "output_type": "stream",
     "text": [
      "------------------------------------------------------\n",
      "Inferred types from first 100 line(s) of file as \n",
      "column_type_hints=[int,str,float,int,float,int,int,float,int,int,int,int,int,int,int,int,int,float,float,int,int]\n",
      "If parsing fails due to incorrect types, you can correct\n",
      "the inferred type list above and pass it to read_csv in\n",
      "the column_type_hints argument\n",
      "------------------------------------------------------\n"
     ]
    },
    {
     "data": {
      "text/html": [
       "<pre>Finished parsing file /home/arkojit/ML Regression/kc_house_data.csv</pre>"
      ],
      "text/plain": [
       "Finished parsing file /home/arkojit/ML Regression/kc_house_data.csv"
      ]
     },
     "metadata": {},
     "output_type": "display_data"
    },
    {
     "data": {
      "text/html": [
       "<pre>Parsing completed. Parsed 21613 lines in 0.090536 secs.</pre>"
      ],
      "text/plain": [
       "Parsing completed. Parsed 21613 lines in 0.090536 secs."
      ]
     },
     "metadata": {},
     "output_type": "display_data"
    }
   ],
   "source": [
    "sales=turicreate.SFrame('kc_house_data.csv')"
   ]
  },
  {
   "cell_type": "code",
   "execution_count": 3,
   "id": "f0f9ad9f",
   "metadata": {},
   "outputs": [],
   "source": [
    "train_data, test_data=sales.random_split(.8, seed=0)"
   ]
  },
  {
   "cell_type": "code",
   "execution_count": 7,
   "id": "d22e65ef",
   "metadata": {},
   "outputs": [],
   "source": [
    "def simple_linear_regression(input, output):\n",
    "    X=input\n",
    "    Y=output\n",
    "    N=len(X)\n",
    "    slope=((X*Y).sum()-Y.sum()*X.sum()/N)/((X*X).sum()-X.sum()*X.sum()/N)\n",
    "    intercept=Y.sum()/N-slope*X.sum()/N\n",
    "    return  (intercept, slope)"
   ]
  },
  {
   "cell_type": "code",
   "execution_count": 8,
   "id": "4bbb80e2",
   "metadata": {},
   "outputs": [],
   "source": [
    "ans1=simple_linear_regression(train_data['sqft_living'], train_data['price'])"
   ]
  },
  {
   "cell_type": "code",
   "execution_count": 13,
   "id": "6b13db21",
   "metadata": {},
   "outputs": [
    {
     "data": {
      "text/plain": [
       "(-47116.07907289418, 281.9588396303426)"
      ]
     },
     "execution_count": 13,
     "metadata": {},
     "output_type": "execute_result"
    }
   ],
   "source": [
    "(intercept1,slope1)=ans1\n",
    "ans1"
   ]
  },
  {
   "cell_type": "code",
   "execution_count": 10,
   "id": "6776c761",
   "metadata": {},
   "outputs": [],
   "source": [
    "def get_regression_prediction(inputf, intercept, slope):\n",
    "    output=intercept+slope*inputf\n",
    "    return output"
   ]
  },
  {
   "cell_type": "code",
   "execution_count": 14,
   "id": "7ffdac54",
   "metadata": {},
   "outputs": [],
   "source": [
    "ans2=get_regression_prediction(2650, intercept1, slope1)"
   ]
  },
  {
   "cell_type": "code",
   "execution_count": 15,
   "id": "6d2fde79",
   "metadata": {},
   "outputs": [
    {
     "data": {
      "text/plain": [
       "700074.8459475137"
      ]
     },
     "execution_count": 15,
     "metadata": {},
     "output_type": "execute_result"
    }
   ],
   "source": [
    "ans2"
   ]
  },
  {
   "cell_type": "code",
   "execution_count": 20,
   "id": "37dfeed0",
   "metadata": {},
   "outputs": [],
   "source": [
    "def rss(inputf, output, intercept, slope):\n",
    "    predicted=intercept+slope*inputf\n",
    "    rs=output-predicted\n",
    "    RSS=(rs*rs).sum()\n",
    "    return (RSS)"
   ]
  },
  {
   "cell_type": "code",
   "execution_count": 21,
   "id": "b64a8636",
   "metadata": {},
   "outputs": [
    {
     "data": {
      "text/plain": [
       "1201918354177283.2"
      ]
     },
     "execution_count": 21,
     "metadata": {},
     "output_type": "execute_result"
    }
   ],
   "source": [
    "rss(train_data['sqft_living'], train_data['price'], intercept1, slope1)"
   ]
  },
  {
   "cell_type": "code",
   "execution_count": 22,
   "id": "26b61934",
   "metadata": {},
   "outputs": [],
   "source": [
    "def inverse_regression_preditions(output, intercept, slope):\n",
    "    inputf=(output-intercept)/slope\n",
    "    return inputf"
   ]
  },
  {
   "cell_type": "code",
   "execution_count": 23,
   "id": "58793776",
   "metadata": {},
   "outputs": [
    {
     "data": {
      "text/plain": [
       "3004.3962451522766"
      ]
     },
     "execution_count": 23,
     "metadata": {},
     "output_type": "execute_result"
    }
   ],
   "source": [
    "inverse_regression_preditions(800000, intercept1, slope1)"
   ]
  },
  {
   "cell_type": "code",
   "execution_count": 24,
   "id": "b0d07cff",
   "metadata": {},
   "outputs": [],
   "source": [
    "ans2=simple_linear_regression(train_data['bedrooms'], train_data['price'])"
   ]
  },
  {
   "cell_type": "code",
   "execution_count": 27,
   "id": "cfd7fd39",
   "metadata": {},
   "outputs": [
    {
     "data": {
      "text/plain": [
       "(109473.1776229596, 127588.95293398784)"
      ]
     },
     "execution_count": 27,
     "metadata": {},
     "output_type": "execute_result"
    }
   ],
   "source": [
    "(intercept2, slope2)=ans2\n",
    "ans2"
   ]
  },
  {
   "cell_type": "code",
   "execution_count": 28,
   "id": "091fa3cf",
   "metadata": {},
   "outputs": [],
   "source": [
    "rss1=rss(test_data['sqft_living'], test_data['price'], intercept1, slope1)"
   ]
  },
  {
   "cell_type": "code",
   "execution_count": 29,
   "id": "5cc9661d",
   "metadata": {},
   "outputs": [
    {
     "data": {
      "text/plain": [
       "275402933617812.22"
      ]
     },
     "execution_count": 29,
     "metadata": {},
     "output_type": "execute_result"
    }
   ],
   "source": [
    "rss1"
   ]
  },
  {
   "cell_type": "code",
   "execution_count": 30,
   "id": "9b26fbdf",
   "metadata": {},
   "outputs": [],
   "source": [
    "rss2=rss(test_data['bedrooms'], test_data['price'], intercept2, slope2)"
   ]
  },
  {
   "cell_type": "code",
   "execution_count": 31,
   "id": "2cd04dd8",
   "metadata": {},
   "outputs": [
    {
     "data": {
      "text/plain": [
       "493364585960301.0"
      ]
     },
     "execution_count": 31,
     "metadata": {},
     "output_type": "execute_result"
    }
   ],
   "source": [
    "rss2"
   ]
  },
  {
   "cell_type": "code",
   "execution_count": null,
   "id": "bf7bab31",
   "metadata": {},
   "outputs": [],
   "source": []
  }
 ],
 "metadata": {
  "kernelspec": {
   "display_name": "Python 3",
   "language": "python",
   "name": "python3"
  },
  "language_info": {
   "codemirror_mode": {
    "name": "ipython",
    "version": 3
   },
   "file_extension": ".py",
   "mimetype": "text/x-python",
   "name": "python",
   "nbconvert_exporter": "python",
   "pygments_lexer": "ipython3",
   "version": "3.8.5"
  }
 },
 "nbformat": 4,
 "nbformat_minor": 5
}
